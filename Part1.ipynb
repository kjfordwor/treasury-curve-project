{
 "cells": [
  {
   "cell_type": "code",
   "execution_count": 9,
   "metadata": {},
   "outputs": [],
   "source": [
    "from fredapi import Fred\n",
    "import pandas as pd"
   ]
  },
  {
   "cell_type": "code",
   "execution_count": 10,
   "metadata": {},
   "outputs": [],
   "source": [
    "from fredapi import Fred\n",
    "\n",
    "fred = Fred(api_key=\"91349b4b1b532715d85f4513d8188365\")\n",
    "tenors = [\"DGS1\", \"DGS2\", \"DGS5\", \"DGS10\", \"DGS30\"]\n",
    "\n",
    "# fetch each separately and concat\n",
    "frames = []\n",
    "for s in tenors:\n",
    "    ts = fred.get_series(s, observation_start=\"2005-01-01\")\n",
    "    ts.name = s\n",
    "    frames.append(ts)\n",
    "\n",
    "df = pd.concat(frames, axis=1).ffill().dropna()\n",
    "df.columns = [\"Y1\",\"Y2\",\"Y5\",\"Y10\",\"Y30\"]"
   ]
  },
  {
   "cell_type": "code",
   "execution_count": 12,
   "metadata": {},
   "outputs": [],
   "source": [
    "df['S2_10'] = df['Y10'] - df['Y2']\n",
    "df['S5_30'] = df['Y30'] - df['Y5']"
   ]
  },
  {
   "cell_type": "code",
   "execution_count": 13,
   "metadata": {},
   "outputs": [],
   "source": [
    "window = 60\n",
    "df['S2_10_mean'] = df['S2_10'].rolling(window).mean()\n",
    "df['S2_10_std']  = df['S2_10'].rolling(window).std()\n",
    "df['S2_10_z']    = (df['S2_10'] - df['S2_10_mean']) / df['S2_10_std']"
   ]
  },
  {
   "cell_type": "code",
   "execution_count": 14,
   "metadata": {},
   "outputs": [],
   "source": [
    "df['Y10_vol'] = df['Y10'].ewm(halflife=21).std()"
   ]
  },
  {
   "cell_type": "code",
   "execution_count": 15,
   "metadata": {},
   "outputs": [],
   "source": [
    "df['S2_10_next']    = df['S2_10'].shift(-21)\n",
    "df['Carry_2_10']    = df['S2_10_next'] - df['S2_10']"
   ]
  },
  {
   "cell_type": "code",
   "execution_count": null,
   "metadata": {},
   "outputs": [],
   "source": []
  }
 ],
 "metadata": {
  "kernelspec": {
   "display_name": "Python 3",
   "language": "python",
   "name": "python3"
  },
  "language_info": {
   "codemirror_mode": {
    "name": "ipython",
    "version": 3
   },
   "file_extension": ".py",
   "mimetype": "text/x-python",
   "name": "python",
   "nbconvert_exporter": "python",
   "pygments_lexer": "ipython3",
   "version": "3.7.3"
  }
 },
 "nbformat": 4,
 "nbformat_minor": 2
}
